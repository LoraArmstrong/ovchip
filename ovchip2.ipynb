{
 "cells": [
  {
   "cell_type": "code",
   "execution_count": 223,
   "metadata": {},
   "outputs": [],
   "source": [
    "import pandas as pd\n",
    "import datetime as dt\n",
    "import matplotlib.pyplot as plt\n",
    "%matplotlib inline"
   ]
  },
  {
   "cell_type": "markdown",
   "metadata": {},
   "source": [
    "# Which discount will save me the most money on Dutch train travel? #"
   ]
  },
  {
   "cell_type": "markdown",
   "metadata": {},
   "source": [
    "In the Netherlands, the [OV-chipkaart](https://en.wikipedia.org/wiki/OV-chipkaart) is a card allowing travel on all forms of public transport. If you have a personal OV-chipkaart, you can buy a season ticket from NS (the main Dutch train operator) to get discounted train travel. \n",
    "\n",
    "But which season ticket is the best for me?\n",
    "\n",
    "*Let's find out.*"
   ]
  },
  {
   "cell_type": "markdown",
   "metadata": {},
   "source": [
    "### Which discounts are offered? ###\n"
   ]
  },
  {
   "cell_type": "markdown",
   "metadata": {},
   "source": [
    "There are [6 season tickets that are currently offered](https://www.ns.nl/en/featured/traveling-with-discount/when-can-you-travel-with-a-discount.html). We will ignore the 'Kids Vrij' option allowing children aged 4-11 to join you for free, because it doesn't cost anything to use this discount and doesn't affect the ticket holder's fare.\n",
    "\n",
    "Depending on the season ticket, there may be a full or partial discount for specific time periods:\n",
    "\n",
    "* Peak travel hours (Weekdays 6:30-9:00, 16:00-18:30)\n",
    "* Off-peak travel hours (all other times)\n",
    "* Weekends\n",
    "* Holidays"
   ]
  },
  {
   "cell_type": "markdown",
   "metadata": {},
   "source": [
    "I manually made a table of the different discount offers. Here are the costs and benefits of a 2nd class travel:"
   ]
  },
  {
   "cell_type": "code",
   "execution_count": 109,
   "metadata": {},
   "outputs": [
    {
     "data": {
      "text/html": [
       "<div>\n",
       "<style scoped>\n",
       "    .dataframe tbody tr th:only-of-type {\n",
       "        vertical-align: middle;\n",
       "    }\n",
       "\n",
       "    .dataframe tbody tr th {\n",
       "        vertical-align: top;\n",
       "    }\n",
       "\n",
       "    .dataframe thead th {\n",
       "        text-align: right;\n",
       "    }\n",
       "</style>\n",
       "<table border=\"1\" class=\"dataframe\">\n",
       "  <thead>\n",
       "    <tr style=\"text-align: right;\">\n",
       "      <th></th>\n",
       "      <th>peak_discount</th>\n",
       "      <th>off_peak_discount</th>\n",
       "      <th>weekend_discount</th>\n",
       "      <th>holiday_discount</th>\n",
       "      <th>monthly_price_per_month</th>\n",
       "      <th>yearly_price_per_month</th>\n",
       "    </tr>\n",
       "    <tr>\n",
       "      <th>discount_name</th>\n",
       "      <th></th>\n",
       "      <th></th>\n",
       "      <th></th>\n",
       "      <th></th>\n",
       "      <th></th>\n",
       "      <th></th>\n",
       "    </tr>\n",
       "  </thead>\n",
       "  <tbody>\n",
       "    <tr>\n",
       "      <th>Altijd Voordeel</th>\n",
       "      <td>0.2</td>\n",
       "      <td>0.4</td>\n",
       "      <td>0.4</td>\n",
       "      <td>0.4</td>\n",
       "      <td>28.0</td>\n",
       "      <td>23.000000</td>\n",
       "    </tr>\n",
       "    <tr>\n",
       "      <th>Altijd Vrij</th>\n",
       "      <td>1.0</td>\n",
       "      <td>1.0</td>\n",
       "      <td>1.0</td>\n",
       "      <td>1.0</td>\n",
       "      <td>424.0</td>\n",
       "      <td>346.000000</td>\n",
       "    </tr>\n",
       "    <tr>\n",
       "      <th>Dal Voordeel</th>\n",
       "      <td>0.0</td>\n",
       "      <td>0.4</td>\n",
       "      <td>0.4</td>\n",
       "      <td>0.4</td>\n",
       "      <td>NaN</td>\n",
       "      <td>4.333333</td>\n",
       "    </tr>\n",
       "    <tr>\n",
       "      <th>Weekend Vrij</th>\n",
       "      <td>0.0</td>\n",
       "      <td>0.4</td>\n",
       "      <td>1.0</td>\n",
       "      <td>1.0</td>\n",
       "      <td>NaN</td>\n",
       "      <td>34.000000</td>\n",
       "    </tr>\n",
       "    <tr>\n",
       "      <th>Dal Vrij</th>\n",
       "      <td>0.0</td>\n",
       "      <td>1.0</td>\n",
       "      <td>1.0</td>\n",
       "      <td>1.0</td>\n",
       "      <td>NaN</td>\n",
       "      <td>105.000000</td>\n",
       "    </tr>\n",
       "    <tr>\n",
       "      <th>None</th>\n",
       "      <td>0.0</td>\n",
       "      <td>0.0</td>\n",
       "      <td>0.0</td>\n",
       "      <td>0.0</td>\n",
       "      <td>0.0</td>\n",
       "      <td>0.000000</td>\n",
       "    </tr>\n",
       "  </tbody>\n",
       "</table>\n",
       "</div>"
      ],
      "text/plain": [
       "                 peak_discount  off_peak_discount  weekend_discount  \\\n",
       "discount_name                                                         \n",
       "Altijd Voordeel            0.2                0.4               0.4   \n",
       "Altijd Vrij                1.0                1.0               1.0   \n",
       "Dal Voordeel               0.0                0.4               0.4   \n",
       "Weekend Vrij               0.0                0.4               1.0   \n",
       "Dal Vrij                   0.0                1.0               1.0   \n",
       "None                       0.0                0.0               0.0   \n",
       "\n",
       "                 holiday_discount  monthly_price_per_month  \\\n",
       "discount_name                                                \n",
       "Altijd Voordeel               0.4                     28.0   \n",
       "Altijd Vrij                   1.0                    424.0   \n",
       "Dal Voordeel                  0.4                      NaN   \n",
       "Weekend Vrij                  1.0                      NaN   \n",
       "Dal Vrij                      1.0                      NaN   \n",
       "None                          0.0                      0.0   \n",
       "\n",
       "                 yearly_price_per_month  \n",
       "discount_name                            \n",
       "Altijd Voordeel               23.000000  \n",
       "Altijd Vrij                  346.000000  \n",
       "Dal Voordeel                   4.333333  \n",
       "Weekend Vrij                  34.000000  \n",
       "Dal Vrij                     105.000000  \n",
       "None                           0.000000  "
      ]
     },
     "execution_count": 109,
     "metadata": {},
     "output_type": "execute_result"
    }
   ],
   "source": [
    "discounts2 = pd.read_csv('discounts_2019_2nd_class.csv', index_col = 'discount_name')\n",
    "discounts2"
   ]
  },
  {
   "cell_type": "markdown",
   "metadata": {},
   "source": [
    "Note that a season ticket can be purchased on a yearly basis, or in some cases on a monthly basis. When both options are available, it is cheaper per month to buy the yearly ticket (if you plan to use it all year). Prices in Euros.\n",
    "\n",
    "There are similar discounts for 1st class travel, but in some cases the prices are higher. "
   ]
  },
  {
   "cell_type": "markdown",
   "metadata": {},
   "source": [
    "### How to access your travel history ###"
   ]
  },
  {
   "cell_type": "markdown",
   "metadata": {},
   "source": [
    "Your personal travel history can be downloaded manually from the 'MijnNS' website. I chose to download the last year of data since some of the season tickets must be purchased on a yearly basis.\n",
    "\n",
    "* This requires an ns.nl account with a personal OV chipkaart linked to it\n",
    "* If you have this account, log into 'MijnNS' on the ns.nl website\n",
    "* Select 'trein' from the 'Reishistorie' menu to display your travel history\n",
    "* Select the desired date range and apply to see all trips in the desired time period\n",
    "* At the bottom of the page, you can download the data as a pdf or csv file\n",
    "* Save csv file.  I called mine 'reistransacties.csv'"
   ]
  },
  {
   "cell_type": "markdown",
   "metadata": {},
   "source": [
    "*Note: If you want to also access your travel history for other forms of transport (buses, trams etc.), an account must be made on a different website. By paying an extra fee, you can also get discounted travel on these other forms of transport with a season ticket. This analysis will only focus on train travel.*"
   ]
  },
  {
   "cell_type": "markdown",
   "metadata": {},
   "source": [
    "### Data cleaning ###"
   ]
  },
  {
   "cell_type": "code",
   "execution_count": 47,
   "metadata": {},
   "outputs": [
    {
     "data": {
      "text/html": [
       "<div>\n",
       "<style scoped>\n",
       "    .dataframe tbody tr th:only-of-type {\n",
       "        vertical-align: middle;\n",
       "    }\n",
       "\n",
       "    .dataframe tbody tr th {\n",
       "        vertical-align: top;\n",
       "    }\n",
       "\n",
       "    .dataframe thead th {\n",
       "        text-align: right;\n",
       "    }\n",
       "</style>\n",
       "<table border=\"1\" class=\"dataframe\">\n",
       "  <thead>\n",
       "    <tr style=\"text-align: right;\">\n",
       "      <th></th>\n",
       "      <th>Datum</th>\n",
       "      <th>Check in</th>\n",
       "      <th>Vertrek</th>\n",
       "      <th>Check uit</th>\n",
       "      <th>Bestemming</th>\n",
       "      <th>Af</th>\n",
       "      <th>Bij</th>\n",
       "      <th>Transactie</th>\n",
       "      <th>Kl</th>\n",
       "      <th>Product</th>\n",
       "      <th>Prive/ Zakelijk</th>\n",
       "      <th>Opmerking</th>\n",
       "    </tr>\n",
       "  </thead>\n",
       "  <tbody>\n",
       "    <tr>\n",
       "      <th>0</th>\n",
       "      <td>20-02-2018</td>\n",
       "      <td>NaN</td>\n",
       "      <td>NaN</td>\n",
       "      <td>NaN</td>\n",
       "      <td>NaN</td>\n",
       "      <td>€0,00</td>\n",
       "      <td>€20,00</td>\n",
       "      <td>Saldo opladen</td>\n",
       "      <td>NaN</td>\n",
       "      <td>NaN</td>\n",
       "      <td>NaN</td>\n",
       "      <td>NaN</td>\n",
       "    </tr>\n",
       "    <tr>\n",
       "      <th>1</th>\n",
       "      <td>10-03-2018</td>\n",
       "      <td>NaN</td>\n",
       "      <td>NaN</td>\n",
       "      <td>NaN</td>\n",
       "      <td>NaN</td>\n",
       "      <td>€0,00</td>\n",
       "      <td>€20,00</td>\n",
       "      <td>Saldo opladen</td>\n",
       "      <td>NaN</td>\n",
       "      <td>NaN</td>\n",
       "      <td>NaN</td>\n",
       "      <td>NaN</td>\n",
       "    </tr>\n",
       "    <tr>\n",
       "      <th>2</th>\n",
       "      <td>10-03-2018</td>\n",
       "      <td>11:29</td>\n",
       "      <td>Leiden Centraal</td>\n",
       "      <td>11:30</td>\n",
       "      <td>Leiden Centraal</td>\n",
       "      <td>€0,00</td>\n",
       "      <td>€0,00</td>\n",
       "      <td>Reis</td>\n",
       "      <td>2.0</td>\n",
       "      <td>Dal Voordeel</td>\n",
       "      <td>NaN</td>\n",
       "      <td>NaN</td>\n",
       "    </tr>\n",
       "    <tr>\n",
       "      <th>3</th>\n",
       "      <td>11-03-2018</td>\n",
       "      <td>18:54</td>\n",
       "      <td>Leiden Centraal</td>\n",
       "      <td>18:55</td>\n",
       "      <td>Leiden Centraal</td>\n",
       "      <td>€0,00</td>\n",
       "      <td>€0,00</td>\n",
       "      <td>Reis</td>\n",
       "      <td>2.0</td>\n",
       "      <td>Dal Voordeel</td>\n",
       "      <td>NaN</td>\n",
       "      <td>NaN</td>\n",
       "    </tr>\n",
       "    <tr>\n",
       "      <th>4</th>\n",
       "      <td>06-04-2018</td>\n",
       "      <td>09:17</td>\n",
       "      <td>Leiden Centraal</td>\n",
       "      <td>10:00</td>\n",
       "      <td>Amsterdam Centraal</td>\n",
       "      <td>€5,50</td>\n",
       "      <td>€0,00</td>\n",
       "      <td>Reis</td>\n",
       "      <td>2.0</td>\n",
       "      <td>Dal Voordeel</td>\n",
       "      <td>NaN</td>\n",
       "      <td>NaN</td>\n",
       "    </tr>\n",
       "  </tbody>\n",
       "</table>\n",
       "</div>"
      ],
      "text/plain": [
       "        Datum Check in          Vertrek Check uit          Bestemming     Af  \\\n",
       "0  20-02-2018      NaN              NaN       NaN                 NaN  €0,00   \n",
       "1  10-03-2018      NaN              NaN       NaN                 NaN  €0,00   \n",
       "2  10-03-2018    11:29  Leiden Centraal     11:30     Leiden Centraal  €0,00   \n",
       "3  11-03-2018    18:54  Leiden Centraal     18:55     Leiden Centraal  €0,00   \n",
       "4  06-04-2018    09:17  Leiden Centraal     10:00  Amsterdam Centraal  €5,50   \n",
       "\n",
       "      Bij     Transactie   Kl       Product  Prive/ Zakelijk  Opmerking  \n",
       "0  €20,00  Saldo opladen  NaN           NaN              NaN        NaN  \n",
       "1  €20,00  Saldo opladen  NaN           NaN              NaN        NaN  \n",
       "2   €0,00           Reis  2.0  Dal Voordeel              NaN        NaN  \n",
       "3   €0,00           Reis  2.0  Dal Voordeel              NaN        NaN  \n",
       "4   €0,00           Reis  2.0  Dal Voordeel              NaN        NaN  "
      ]
     },
     "execution_count": 47,
     "metadata": {},
     "output_type": "execute_result"
    }
   ],
   "source": [
    "travel = pd.read_csv('reistransacties.csv')\n",
    "travel.head()"
   ]
  },
  {
   "cell_type": "markdown",
   "metadata": {},
   "source": [
    "Issues at first glance:\n",
    "\n",
    "* Column names should be in English for consistency with rest of code\n",
    "* The last 2 columns are not needed\n",
    "* The rows recording times I topped up my balance ('Saldo opladen' transactions) are not needed\n",
    "* Only check-in time matters for the fare, so checkout time can be removed\n",
    "* Check-in times should be combined with dates and converted to datetime objects\n",
    "* Fares should have the Euro sign removed and be converted to numbers\n",
    "* Rows with fare of zero can be removed (I just passed through a station without travelling)"
   ]
  },
  {
   "cell_type": "code",
   "execution_count": 48,
   "metadata": {},
   "outputs": [],
   "source": [
    "#Fix column names\n",
    "cols_english = ['Date','Check_in_time', 'Origin', 'Checkout_time', 'Destination', 'Fare', 'Money_added', \n",
    "                'Transaction_type', 'Class','Discount_type', 'For_business', 'Notes']\n",
    "travel.columns = cols_english\n"
   ]
  },
  {
   "cell_type": "code",
   "execution_count": 49,
   "metadata": {},
   "outputs": [],
   "source": [
    "#Remove columns and rows that won't be used\n",
    "travel = travel[travel['Transaction_type'] == 'Reis']\n",
    "travel = travel.drop(columns=['Checkout_time','Transaction_type', 'Money_added', 'For_business', 'Notes'])"
   ]
  },
  {
   "cell_type": "code",
   "execution_count": 50,
   "metadata": {},
   "outputs": [],
   "source": [
    "#Combine check-in date and time, convert to datetime\n",
    "travel['Check_in_time'] = pd.to_datetime(travel['Date'] + ' ' + travel['Check_in_time'])\n",
    "travel = travel.set_index('Check_in_time')\n",
    "travel = travel.drop(columns=['Date'])"
   ]
  },
  {
   "cell_type": "code",
   "execution_count": 51,
   "metadata": {},
   "outputs": [],
   "source": [
    "#Choose better data types for some columns\n",
    "travel['Fare'] = travel['Fare'].apply(lambda x: float(x[1:].replace(',','.')))\n",
    "travel['Class'] = travel['Class'].astype(int).astype('category')\n",
    "travel['Discount_type'] = travel['Discount_type'].astype('category')"
   ]
  },
  {
   "cell_type": "code",
   "execution_count": 52,
   "metadata": {},
   "outputs": [],
   "source": [
    "#Remove rows with fare of zero\n",
    "travel = travel.loc[travel['Fare'] != 0.0]"
   ]
  },
  {
   "cell_type": "markdown",
   "metadata": {},
   "source": [
    "Looks much better:"
   ]
  },
  {
   "cell_type": "code",
   "execution_count": 53,
   "metadata": {},
   "outputs": [
    {
     "data": {
      "text/html": [
       "<div>\n",
       "<style scoped>\n",
       "    .dataframe tbody tr th:only-of-type {\n",
       "        vertical-align: middle;\n",
       "    }\n",
       "\n",
       "    .dataframe tbody tr th {\n",
       "        vertical-align: top;\n",
       "    }\n",
       "\n",
       "    .dataframe thead th {\n",
       "        text-align: right;\n",
       "    }\n",
       "</style>\n",
       "<table border=\"1\" class=\"dataframe\">\n",
       "  <thead>\n",
       "    <tr style=\"text-align: right;\">\n",
       "      <th></th>\n",
       "      <th>Origin</th>\n",
       "      <th>Destination</th>\n",
       "      <th>Fare</th>\n",
       "      <th>Class</th>\n",
       "      <th>Discount_type</th>\n",
       "    </tr>\n",
       "    <tr>\n",
       "      <th>Check_in_time</th>\n",
       "      <th></th>\n",
       "      <th></th>\n",
       "      <th></th>\n",
       "      <th></th>\n",
       "      <th></th>\n",
       "    </tr>\n",
       "  </thead>\n",
       "  <tbody>\n",
       "    <tr>\n",
       "      <th>2018-06-04 09:17:00</th>\n",
       "      <td>Leiden Centraal</td>\n",
       "      <td>Amsterdam Centraal</td>\n",
       "      <td>5.5</td>\n",
       "      <td>2</td>\n",
       "      <td>Dal Voordeel</td>\n",
       "    </tr>\n",
       "    <tr>\n",
       "      <th>2018-06-04 11:57:00</th>\n",
       "      <td>Amsterdam Centraal</td>\n",
       "      <td>Leiden Centraal</td>\n",
       "      <td>5.5</td>\n",
       "      <td>2</td>\n",
       "      <td>Dal Voordeel</td>\n",
       "    </tr>\n",
       "    <tr>\n",
       "      <th>2018-08-04 07:34:00</th>\n",
       "      <td>Leiden Centraal</td>\n",
       "      <td>Rotterdam Centraal</td>\n",
       "      <td>4.4</td>\n",
       "      <td>2</td>\n",
       "      <td>Dal Voordeel</td>\n",
       "    </tr>\n",
       "    <tr>\n",
       "      <th>2018-08-04 14:25:00</th>\n",
       "      <td>Rotterdam Centraal</td>\n",
       "      <td>Leiden Centraal</td>\n",
       "      <td>4.4</td>\n",
       "      <td>2</td>\n",
       "      <td>Dal Voordeel</td>\n",
       "    </tr>\n",
       "    <tr>\n",
       "      <th>2018-04-19 11:55:00</th>\n",
       "      <td>Leiden Centraal</td>\n",
       "      <td>Amsterdam Centraal</td>\n",
       "      <td>5.5</td>\n",
       "      <td>2</td>\n",
       "      <td>Dal Voordeel</td>\n",
       "    </tr>\n",
       "  </tbody>\n",
       "</table>\n",
       "</div>"
      ],
      "text/plain": [
       "                                 Origin         Destination  Fare Class  \\\n",
       "Check_in_time                                                             \n",
       "2018-06-04 09:17:00     Leiden Centraal  Amsterdam Centraal   5.5     2   \n",
       "2018-06-04 11:57:00  Amsterdam Centraal     Leiden Centraal   5.5     2   \n",
       "2018-08-04 07:34:00     Leiden Centraal  Rotterdam Centraal   4.4     2   \n",
       "2018-08-04 14:25:00  Rotterdam Centraal     Leiden Centraal   4.4     2   \n",
       "2018-04-19 11:55:00     Leiden Centraal  Amsterdam Centraal   5.5     2   \n",
       "\n",
       "                    Discount_type  \n",
       "Check_in_time                      \n",
       "2018-06-04 09:17:00  Dal Voordeel  \n",
       "2018-06-04 11:57:00  Dal Voordeel  \n",
       "2018-08-04 07:34:00  Dal Voordeel  \n",
       "2018-08-04 14:25:00  Dal Voordeel  \n",
       "2018-04-19 11:55:00  Dal Voordeel  "
      ]
     },
     "execution_count": 53,
     "metadata": {},
     "output_type": "execute_result"
    }
   ],
   "source": [
    "travel.head()"
   ]
  },
  {
   "cell_type": "code",
   "execution_count": 54,
   "metadata": {},
   "outputs": [
    {
     "name": "stdout",
     "output_type": "stream",
     "text": [
      "<class 'pandas.core.frame.DataFrame'>\n",
      "DatetimeIndex: 88 entries, 2018-06-04 09:17:00 to 2019-02-13 13:03:00\n",
      "Data columns (total 5 columns):\n",
      "Origin           88 non-null object\n",
      "Destination      87 non-null object\n",
      "Fare             88 non-null float64\n",
      "Class            88 non-null category\n",
      "Discount_type    88 non-null category\n",
      "dtypes: category(2), float64(1), object(2)\n",
      "memory usage: 3.1+ KB\n"
     ]
    }
   ],
   "source": [
    "travel.info()"
   ]
  },
  {
   "cell_type": "markdown",
   "metadata": {},
   "source": [
    "It appears there was 1 journey where I forgot to check out based on a missing value in the destination column. Let's get some more details."
   ]
  },
  {
   "cell_type": "code",
   "execution_count": 55,
   "metadata": {},
   "outputs": [
    {
     "data": {
      "text/html": [
       "<div>\n",
       "<style scoped>\n",
       "    .dataframe tbody tr th:only-of-type {\n",
       "        vertical-align: middle;\n",
       "    }\n",
       "\n",
       "    .dataframe tbody tr th {\n",
       "        vertical-align: top;\n",
       "    }\n",
       "\n",
       "    .dataframe thead th {\n",
       "        text-align: right;\n",
       "    }\n",
       "</style>\n",
       "<table border=\"1\" class=\"dataframe\">\n",
       "  <thead>\n",
       "    <tr style=\"text-align: right;\">\n",
       "      <th></th>\n",
       "      <th>Origin</th>\n",
       "      <th>Destination</th>\n",
       "      <th>Fare</th>\n",
       "      <th>Class</th>\n",
       "      <th>Discount_type</th>\n",
       "    </tr>\n",
       "    <tr>\n",
       "      <th>Check_in_time</th>\n",
       "      <th></th>\n",
       "      <th></th>\n",
       "      <th></th>\n",
       "      <th></th>\n",
       "      <th></th>\n",
       "    </tr>\n",
       "  </thead>\n",
       "  <tbody>\n",
       "    <tr>\n",
       "      <th>2018-09-18 11:57:00</th>\n",
       "      <td>Leiden Centraal</td>\n",
       "      <td>NaN</td>\n",
       "      <td>10.0</td>\n",
       "      <td>2</td>\n",
       "      <td>Dal Voordeel</td>\n",
       "    </tr>\n",
       "  </tbody>\n",
       "</table>\n",
       "</div>"
      ],
      "text/plain": [
       "                              Origin Destination  Fare Class Discount_type\n",
       "Check_in_time                                                             \n",
       "2018-09-18 11:57:00  Leiden Centraal         NaN  10.0     2  Dal Voordeel"
      ]
     },
     "execution_count": 55,
     "metadata": {},
     "output_type": "execute_result"
    }
   ],
   "source": [
    "travel[travel['Destination'].isnull()]"
   ]
  },
  {
   "cell_type": "markdown",
   "metadata": {},
   "source": [
    "I happen to know that the destination was Amsterdam Centraal and the fare was €5.50. I got reimbursed later, so just to be correct let's fill in the correct values and estimate a checkout time."
   ]
  },
  {
   "cell_type": "code",
   "execution_count": 56,
   "metadata": {},
   "outputs": [
    {
     "data": {
      "text/plain": [
       "Check_in_time\n",
       "2018-09-18 11:57:00    NaN\n",
       "Name: Destination, dtype: object"
      ]
     },
     "execution_count": 56,
     "metadata": {},
     "output_type": "execute_result"
    }
   ],
   "source": [
    "#Check that there is only one trip on 2018-09-18\n",
    "travel.loc['2018-09-18 11:57:00', 'Destination']"
   ]
  },
  {
   "cell_type": "code",
   "execution_count": 57,
   "metadata": {},
   "outputs": [],
   "source": [
    "#Adjust the values\n",
    "travel.loc['2018-09-18 11:57:00', 'Destination'] = 'Amsterdam Centraal'\n",
    "travel.loc['2018-09-18 11:57:00', 'Fare'] = 5.5"
   ]
  },
  {
   "cell_type": "code",
   "execution_count": 58,
   "metadata": {},
   "outputs": [
    {
     "data": {
      "text/html": [
       "<div>\n",
       "<style scoped>\n",
       "    .dataframe tbody tr th:only-of-type {\n",
       "        vertical-align: middle;\n",
       "    }\n",
       "\n",
       "    .dataframe tbody tr th {\n",
       "        vertical-align: top;\n",
       "    }\n",
       "\n",
       "    .dataframe thead th {\n",
       "        text-align: right;\n",
       "    }\n",
       "</style>\n",
       "<table border=\"1\" class=\"dataframe\">\n",
       "  <thead>\n",
       "    <tr style=\"text-align: right;\">\n",
       "      <th></th>\n",
       "      <th>Origin</th>\n",
       "      <th>Destination</th>\n",
       "      <th>Fare</th>\n",
       "      <th>Class</th>\n",
       "      <th>Discount_type</th>\n",
       "    </tr>\n",
       "    <tr>\n",
       "      <th>Check_in_time</th>\n",
       "      <th></th>\n",
       "      <th></th>\n",
       "      <th></th>\n",
       "      <th></th>\n",
       "      <th></th>\n",
       "    </tr>\n",
       "  </thead>\n",
       "  <tbody>\n",
       "    <tr>\n",
       "      <th>2018-09-18 11:57:00</th>\n",
       "      <td>Leiden Centraal</td>\n",
       "      <td>Amsterdam Centraal</td>\n",
       "      <td>5.5</td>\n",
       "      <td>2</td>\n",
       "      <td>Dal Voordeel</td>\n",
       "    </tr>\n",
       "  </tbody>\n",
       "</table>\n",
       "</div>"
      ],
      "text/plain": [
       "                              Origin         Destination  Fare Class  \\\n",
       "Check_in_time                                                          \n",
       "2018-09-18 11:57:00  Leiden Centraal  Amsterdam Centraal   5.5     2   \n",
       "\n",
       "                    Discount_type  \n",
       "Check_in_time                      \n",
       "2018-09-18 11:57:00  Dal Voordeel  "
      ]
     },
     "execution_count": 58,
     "metadata": {},
     "output_type": "execute_result"
    }
   ],
   "source": [
    "#Check that it all looks good\n",
    "travel.loc['2018-09-18 11:57:00', :]"
   ]
  },
  {
   "cell_type": "code",
   "execution_count": 59,
   "metadata": {},
   "outputs": [
    {
     "name": "stdout",
     "output_type": "stream",
     "text": [
      "<class 'pandas.core.frame.DataFrame'>\n",
      "DatetimeIndex: 88 entries, 2018-06-04 09:17:00 to 2019-02-13 13:03:00\n",
      "Data columns (total 5 columns):\n",
      "Origin           88 non-null object\n",
      "Destination      88 non-null object\n",
      "Fare             88 non-null float64\n",
      "Class            88 non-null category\n",
      "Discount_type    88 non-null category\n",
      "dtypes: category(2), float64(1), object(2)\n",
      "memory usage: 5.6+ KB\n"
     ]
    }
   ],
   "source": [
    "travel.info()"
   ]
  },
  {
   "cell_type": "markdown",
   "metadata": {},
   "source": [
    "### Extra information to add ###"
   ]
  },
  {
   "cell_type": "markdown",
   "metadata": {},
   "source": [
    "Some extra information will be needed in order to calculate the discounts from each season ticket. Columns to add:\n",
    "\n",
    "* Columns indicating if each trip is peak/off-peak, on a weekend, or on a holiday\n",
    "* The non-discounted fare for each trip. Because I had a Dal Voordeel season ticket for all of the trips, all off-peak trips got a 40% discount. "
   ]
  },
  {
   "cell_type": "code",
   "execution_count": 60,
   "metadata": {},
   "outputs": [],
   "source": [
    "#Day of week is integer from 0 to 6, 0 is for Monday\n",
    "travel['weekend'] = travel.index.dayofweek > 4 "
   ]
  },
  {
   "cell_type": "code",
   "execution_count": 61,
   "metadata": {},
   "outputs": [],
   "source": [
    "#Start & end of peak travel times\n",
    "peakstart1 = pd.to_datetime('6:30').time()\n",
    "peakend1 = pd.to_datetime('9:00').time()\n",
    "peakstart2 = pd.to_datetime('16:00').time()\n",
    "peakend2 = pd.to_datetime('18:30').time()"
   ]
  },
  {
   "cell_type": "code",
   "execution_count": 62,
   "metadata": {},
   "outputs": [],
   "source": [
    "#Was check-in at peak?\n",
    "travel['start1'] = travel.index.time > peakstart1\n",
    "travel['end1'] = travel.index.time < peakend1 \n",
    "travel['start2'] = travel.index.time > peakstart2 \n",
    "travel['end2'] = travel.index.time < peakend2 \n",
    "travel['peak'] = (travel['start1'] & travel['end1']) | (travel['start2'] & travel['end2'])\n",
    "travel = travel.drop(columns = ['start1', 'end1', 'start2', 'end2'])"
   ]
  },
  {
   "cell_type": "markdown",
   "metadata": {},
   "source": [
    "To find out if the trip was on a holiday, we need a list of holidays recognized by NS:"
   ]
  },
  {
   "cell_type": "code",
   "execution_count": 63,
   "metadata": {},
   "outputs": [
    {
     "data": {
      "text/html": [
       "<div>\n",
       "<style scoped>\n",
       "    .dataframe tbody tr th:only-of-type {\n",
       "        vertical-align: middle;\n",
       "    }\n",
       "\n",
       "    .dataframe tbody tr th {\n",
       "        vertical-align: top;\n",
       "    }\n",
       "\n",
       "    .dataframe thead th {\n",
       "        text-align: right;\n",
       "    }\n",
       "</style>\n",
       "<table border=\"1\" class=\"dataframe\">\n",
       "  <thead>\n",
       "    <tr style=\"text-align: right;\">\n",
       "      <th></th>\n",
       "      <th>Date</th>\n",
       "      <th>Holiday</th>\n",
       "    </tr>\n",
       "  </thead>\n",
       "  <tbody>\n",
       "    <tr>\n",
       "      <th>0</th>\n",
       "      <td>2018-03-30</td>\n",
       "      <td>Good Friday</td>\n",
       "    </tr>\n",
       "    <tr>\n",
       "      <th>1</th>\n",
       "      <td>2018-04-01</td>\n",
       "      <td>Easter Sunday</td>\n",
       "    </tr>\n",
       "    <tr>\n",
       "      <th>2</th>\n",
       "      <td>2018-04-02</td>\n",
       "      <td>Easter Monday</td>\n",
       "    </tr>\n",
       "    <tr>\n",
       "      <th>3</th>\n",
       "      <td>2018-04-27</td>\n",
       "      <td>King’s Day</td>\n",
       "    </tr>\n",
       "    <tr>\n",
       "      <th>4</th>\n",
       "      <td>2018-05-10</td>\n",
       "      <td>Ascension Day</td>\n",
       "    </tr>\n",
       "  </tbody>\n",
       "</table>\n",
       "</div>"
      ],
      "text/plain": [
       "         Date        Holiday\n",
       "0  2018-03-30    Good Friday\n",
       "1  2018-04-01  Easter Sunday\n",
       "2  2018-04-02  Easter Monday\n",
       "3  2018-04-27     King’s Day\n",
       "4  2018-05-10  Ascension Day"
      ]
     },
     "execution_count": 63,
     "metadata": {},
     "output_type": "execute_result"
    }
   ],
   "source": [
    "holidays = pd.read_csv('NL_holidays_20182019.csv')\n",
    "holidays.head()"
   ]
  },
  {
   "cell_type": "code",
   "execution_count": 64,
   "metadata": {},
   "outputs": [
    {
     "data": {
      "text/plain": [
       "[datetime.date(2018, 3, 30),\n",
       " datetime.date(2018, 4, 1),\n",
       " datetime.date(2018, 4, 2),\n",
       " datetime.date(2018, 4, 27),\n",
       " datetime.date(2018, 5, 10)]"
      ]
     },
     "execution_count": 64,
     "metadata": {},
     "output_type": "execute_result"
    }
   ],
   "source": [
    "holidates = pd.to_datetime(holidays['Date']).dt.date.tolist()\n",
    "holidates[0:5]"
   ]
  },
  {
   "cell_type": "code",
   "execution_count": 65,
   "metadata": {},
   "outputs": [],
   "source": [
    "travel['Date'] = travel.index.date\n",
    "travel['holiday'] = travel['Date'].isin(holidates)\n",
    "travel = travel.drop(columns=['Date'])"
   ]
  },
  {
   "cell_type": "code",
   "execution_count": 66,
   "metadata": {},
   "outputs": [
    {
     "data": {
      "text/html": [
       "<div>\n",
       "<style scoped>\n",
       "    .dataframe tbody tr th:only-of-type {\n",
       "        vertical-align: middle;\n",
       "    }\n",
       "\n",
       "    .dataframe tbody tr th {\n",
       "        vertical-align: top;\n",
       "    }\n",
       "\n",
       "    .dataframe thead th {\n",
       "        text-align: right;\n",
       "    }\n",
       "</style>\n",
       "<table border=\"1\" class=\"dataframe\">\n",
       "  <thead>\n",
       "    <tr style=\"text-align: right;\">\n",
       "      <th></th>\n",
       "      <th>Origin</th>\n",
       "      <th>Destination</th>\n",
       "      <th>Fare</th>\n",
       "      <th>Class</th>\n",
       "      <th>Discount_type</th>\n",
       "      <th>weekend</th>\n",
       "      <th>peak</th>\n",
       "      <th>holiday</th>\n",
       "    </tr>\n",
       "    <tr>\n",
       "      <th>Check_in_time</th>\n",
       "      <th></th>\n",
       "      <th></th>\n",
       "      <th></th>\n",
       "      <th></th>\n",
       "      <th></th>\n",
       "      <th></th>\n",
       "      <th></th>\n",
       "      <th></th>\n",
       "    </tr>\n",
       "  </thead>\n",
       "  <tbody>\n",
       "    <tr>\n",
       "      <th>2018-06-04 09:17:00</th>\n",
       "      <td>Leiden Centraal</td>\n",
       "      <td>Amsterdam Centraal</td>\n",
       "      <td>5.5</td>\n",
       "      <td>2</td>\n",
       "      <td>Dal Voordeel</td>\n",
       "      <td>False</td>\n",
       "      <td>False</td>\n",
       "      <td>False</td>\n",
       "    </tr>\n",
       "    <tr>\n",
       "      <th>2018-06-04 11:57:00</th>\n",
       "      <td>Amsterdam Centraal</td>\n",
       "      <td>Leiden Centraal</td>\n",
       "      <td>5.5</td>\n",
       "      <td>2</td>\n",
       "      <td>Dal Voordeel</td>\n",
       "      <td>False</td>\n",
       "      <td>False</td>\n",
       "      <td>False</td>\n",
       "    </tr>\n",
       "    <tr>\n",
       "      <th>2018-08-04 07:34:00</th>\n",
       "      <td>Leiden Centraal</td>\n",
       "      <td>Rotterdam Centraal</td>\n",
       "      <td>4.4</td>\n",
       "      <td>2</td>\n",
       "      <td>Dal Voordeel</td>\n",
       "      <td>True</td>\n",
       "      <td>True</td>\n",
       "      <td>False</td>\n",
       "    </tr>\n",
       "    <tr>\n",
       "      <th>2018-08-04 14:25:00</th>\n",
       "      <td>Rotterdam Centraal</td>\n",
       "      <td>Leiden Centraal</td>\n",
       "      <td>4.4</td>\n",
       "      <td>2</td>\n",
       "      <td>Dal Voordeel</td>\n",
       "      <td>True</td>\n",
       "      <td>False</td>\n",
       "      <td>False</td>\n",
       "    </tr>\n",
       "    <tr>\n",
       "      <th>2018-04-19 11:55:00</th>\n",
       "      <td>Leiden Centraal</td>\n",
       "      <td>Amsterdam Centraal</td>\n",
       "      <td>5.5</td>\n",
       "      <td>2</td>\n",
       "      <td>Dal Voordeel</td>\n",
       "      <td>False</td>\n",
       "      <td>False</td>\n",
       "      <td>False</td>\n",
       "    </tr>\n",
       "  </tbody>\n",
       "</table>\n",
       "</div>"
      ],
      "text/plain": [
       "                                 Origin         Destination  Fare Class  \\\n",
       "Check_in_time                                                             \n",
       "2018-06-04 09:17:00     Leiden Centraal  Amsterdam Centraal   5.5     2   \n",
       "2018-06-04 11:57:00  Amsterdam Centraal     Leiden Centraal   5.5     2   \n",
       "2018-08-04 07:34:00     Leiden Centraal  Rotterdam Centraal   4.4     2   \n",
       "2018-08-04 14:25:00  Rotterdam Centraal     Leiden Centraal   4.4     2   \n",
       "2018-04-19 11:55:00     Leiden Centraal  Amsterdam Centraal   5.5     2   \n",
       "\n",
       "                    Discount_type  weekend   peak  holiday  \n",
       "Check_in_time                                               \n",
       "2018-06-04 09:17:00  Dal Voordeel    False  False    False  \n",
       "2018-06-04 11:57:00  Dal Voordeel    False  False    False  \n",
       "2018-08-04 07:34:00  Dal Voordeel     True   True    False  \n",
       "2018-08-04 14:25:00  Dal Voordeel     True  False    False  \n",
       "2018-04-19 11:55:00  Dal Voordeel    False  False    False  "
      ]
     },
     "execution_count": 66,
     "metadata": {},
     "output_type": "execute_result"
    }
   ],
   "source": [
    "travel.head()"
   ]
  },
  {
   "cell_type": "markdown",
   "metadata": {},
   "source": [
    "If it is a weekend, holiday, or off-peak weekday then I received a 40% discount and the fare needs to be corrected to get its original value."
   ]
  },
  {
   "cell_type": "code",
   "execution_count": 67,
   "metadata": {},
   "outputs": [],
   "source": [
    "#Find if the discount was applied\n",
    "travel['discount_used'] = travel.weekend | travel.holiday | ~travel.peak"
   ]
  },
  {
   "cell_type": "code",
   "execution_count": 68,
   "metadata": {},
   "outputs": [],
   "source": [
    "def reverse_dal_voordeel(fare, used):\n",
    "    '''Given a fare and a boolean indicating if the \n",
    "    Dal Voordeel discount was used, returns the original fare'''\n",
    "    \n",
    "    discount = 0.4\n",
    "    if used:\n",
    "        return round(fare / (1-discount),2)\n",
    "    else:\n",
    "        return fare"
   ]
  },
  {
   "cell_type": "code",
   "execution_count": 69,
   "metadata": {},
   "outputs": [
    {
     "data": {
      "text/html": [
       "<div>\n",
       "<style scoped>\n",
       "    .dataframe tbody tr th:only-of-type {\n",
       "        vertical-align: middle;\n",
       "    }\n",
       "\n",
       "    .dataframe tbody tr th {\n",
       "        vertical-align: top;\n",
       "    }\n",
       "\n",
       "    .dataframe thead th {\n",
       "        text-align: right;\n",
       "    }\n",
       "</style>\n",
       "<table border=\"1\" class=\"dataframe\">\n",
       "  <thead>\n",
       "    <tr style=\"text-align: right;\">\n",
       "      <th></th>\n",
       "      <th>Origin</th>\n",
       "      <th>Destination</th>\n",
       "      <th>Fare</th>\n",
       "      <th>Class</th>\n",
       "      <th>Discount_type</th>\n",
       "      <th>weekend</th>\n",
       "      <th>peak</th>\n",
       "      <th>holiday</th>\n",
       "      <th>discount_used</th>\n",
       "      <th>true_fare</th>\n",
       "    </tr>\n",
       "    <tr>\n",
       "      <th>Check_in_time</th>\n",
       "      <th></th>\n",
       "      <th></th>\n",
       "      <th></th>\n",
       "      <th></th>\n",
       "      <th></th>\n",
       "      <th></th>\n",
       "      <th></th>\n",
       "      <th></th>\n",
       "      <th></th>\n",
       "      <th></th>\n",
       "    </tr>\n",
       "  </thead>\n",
       "  <tbody>\n",
       "    <tr>\n",
       "      <th>2018-06-04 09:17:00</th>\n",
       "      <td>Leiden Centraal</td>\n",
       "      <td>Amsterdam Centraal</td>\n",
       "      <td>5.5</td>\n",
       "      <td>2</td>\n",
       "      <td>Dal Voordeel</td>\n",
       "      <td>False</td>\n",
       "      <td>False</td>\n",
       "      <td>False</td>\n",
       "      <td>True</td>\n",
       "      <td>9.17</td>\n",
       "    </tr>\n",
       "    <tr>\n",
       "      <th>2018-06-04 11:57:00</th>\n",
       "      <td>Amsterdam Centraal</td>\n",
       "      <td>Leiden Centraal</td>\n",
       "      <td>5.5</td>\n",
       "      <td>2</td>\n",
       "      <td>Dal Voordeel</td>\n",
       "      <td>False</td>\n",
       "      <td>False</td>\n",
       "      <td>False</td>\n",
       "      <td>True</td>\n",
       "      <td>9.17</td>\n",
       "    </tr>\n",
       "    <tr>\n",
       "      <th>2018-08-04 07:34:00</th>\n",
       "      <td>Leiden Centraal</td>\n",
       "      <td>Rotterdam Centraal</td>\n",
       "      <td>4.4</td>\n",
       "      <td>2</td>\n",
       "      <td>Dal Voordeel</td>\n",
       "      <td>True</td>\n",
       "      <td>True</td>\n",
       "      <td>False</td>\n",
       "      <td>True</td>\n",
       "      <td>7.33</td>\n",
       "    </tr>\n",
       "    <tr>\n",
       "      <th>2018-08-04 14:25:00</th>\n",
       "      <td>Rotterdam Centraal</td>\n",
       "      <td>Leiden Centraal</td>\n",
       "      <td>4.4</td>\n",
       "      <td>2</td>\n",
       "      <td>Dal Voordeel</td>\n",
       "      <td>True</td>\n",
       "      <td>False</td>\n",
       "      <td>False</td>\n",
       "      <td>True</td>\n",
       "      <td>7.33</td>\n",
       "    </tr>\n",
       "    <tr>\n",
       "      <th>2018-04-19 11:55:00</th>\n",
       "      <td>Leiden Centraal</td>\n",
       "      <td>Amsterdam Centraal</td>\n",
       "      <td>5.5</td>\n",
       "      <td>2</td>\n",
       "      <td>Dal Voordeel</td>\n",
       "      <td>False</td>\n",
       "      <td>False</td>\n",
       "      <td>False</td>\n",
       "      <td>True</td>\n",
       "      <td>9.17</td>\n",
       "    </tr>\n",
       "  </tbody>\n",
       "</table>\n",
       "</div>"
      ],
      "text/plain": [
       "                                 Origin         Destination  Fare Class  \\\n",
       "Check_in_time                                                             \n",
       "2018-06-04 09:17:00     Leiden Centraal  Amsterdam Centraal   5.5     2   \n",
       "2018-06-04 11:57:00  Amsterdam Centraal     Leiden Centraal   5.5     2   \n",
       "2018-08-04 07:34:00     Leiden Centraal  Rotterdam Centraal   4.4     2   \n",
       "2018-08-04 14:25:00  Rotterdam Centraal     Leiden Centraal   4.4     2   \n",
       "2018-04-19 11:55:00     Leiden Centraal  Amsterdam Centraal   5.5     2   \n",
       "\n",
       "                    Discount_type  weekend   peak  holiday  discount_used  \\\n",
       "Check_in_time                                                               \n",
       "2018-06-04 09:17:00  Dal Voordeel    False  False    False           True   \n",
       "2018-06-04 11:57:00  Dal Voordeel    False  False    False           True   \n",
       "2018-08-04 07:34:00  Dal Voordeel     True   True    False           True   \n",
       "2018-08-04 14:25:00  Dal Voordeel     True  False    False           True   \n",
       "2018-04-19 11:55:00  Dal Voordeel    False  False    False           True   \n",
       "\n",
       "                     true_fare  \n",
       "Check_in_time                   \n",
       "2018-06-04 09:17:00       9.17  \n",
       "2018-06-04 11:57:00       9.17  \n",
       "2018-08-04 07:34:00       7.33  \n",
       "2018-08-04 14:25:00       7.33  \n",
       "2018-04-19 11:55:00       9.17  "
      ]
     },
     "execution_count": 69,
     "metadata": {},
     "output_type": "execute_result"
    }
   ],
   "source": [
    "travel['true_fare'] = travel.apply(lambda x: reverse_dal_voordeel(x['Fare'], x['discount_used']), axis=1)\n",
    "travel.head()"
   ]
  },
  {
   "cell_type": "markdown",
   "metadata": {},
   "source": [
    "### Calculating the discount from different season tickets ###\n",
    "\n",
    "Given the discount_name, class, true fare, and weekend/peak/holiday information, calculate:\n",
    "\n",
    "* If the discount is applied\n",
    "* What the discounted fare is"
   ]
  },
  {
   "cell_type": "code",
   "execution_count": 110,
   "metadata": {},
   "outputs": [
    {
     "data": {
      "text/html": [
       "<div>\n",
       "<style scoped>\n",
       "    .dataframe tbody tr th:only-of-type {\n",
       "        vertical-align: middle;\n",
       "    }\n",
       "\n",
       "    .dataframe tbody tr th {\n",
       "        vertical-align: top;\n",
       "    }\n",
       "\n",
       "    .dataframe thead th {\n",
       "        text-align: right;\n",
       "    }\n",
       "</style>\n",
       "<table border=\"1\" class=\"dataframe\">\n",
       "  <thead>\n",
       "    <tr style=\"text-align: right;\">\n",
       "      <th></th>\n",
       "      <th>peak_discount</th>\n",
       "      <th>off_peak_discount</th>\n",
       "      <th>weekend_discount</th>\n",
       "      <th>holiday_discount</th>\n",
       "      <th>monthly_price_per_month</th>\n",
       "      <th>yearly_price_per_month</th>\n",
       "    </tr>\n",
       "    <tr>\n",
       "      <th>discount_name</th>\n",
       "      <th></th>\n",
       "      <th></th>\n",
       "      <th></th>\n",
       "      <th></th>\n",
       "      <th></th>\n",
       "      <th></th>\n",
       "    </tr>\n",
       "  </thead>\n",
       "  <tbody>\n",
       "    <tr>\n",
       "      <th>Altijd Voordeel</th>\n",
       "      <td>0.2</td>\n",
       "      <td>0.4</td>\n",
       "      <td>0.4</td>\n",
       "      <td>0.4</td>\n",
       "      <td>28.0</td>\n",
       "      <td>23.000000</td>\n",
       "    </tr>\n",
       "    <tr>\n",
       "      <th>Altijd Vrij</th>\n",
       "      <td>1.0</td>\n",
       "      <td>1.0</td>\n",
       "      <td>1.0</td>\n",
       "      <td>1.0</td>\n",
       "      <td>424.0</td>\n",
       "      <td>346.000000</td>\n",
       "    </tr>\n",
       "    <tr>\n",
       "      <th>Dal Voordeel</th>\n",
       "      <td>0.0</td>\n",
       "      <td>0.4</td>\n",
       "      <td>0.4</td>\n",
       "      <td>0.4</td>\n",
       "      <td>NaN</td>\n",
       "      <td>4.333333</td>\n",
       "    </tr>\n",
       "    <tr>\n",
       "      <th>Weekend Vrij</th>\n",
       "      <td>0.0</td>\n",
       "      <td>0.4</td>\n",
       "      <td>1.0</td>\n",
       "      <td>1.0</td>\n",
       "      <td>NaN</td>\n",
       "      <td>34.000000</td>\n",
       "    </tr>\n",
       "    <tr>\n",
       "      <th>Dal Vrij</th>\n",
       "      <td>0.0</td>\n",
       "      <td>1.0</td>\n",
       "      <td>1.0</td>\n",
       "      <td>1.0</td>\n",
       "      <td>NaN</td>\n",
       "      <td>105.000000</td>\n",
       "    </tr>\n",
       "    <tr>\n",
       "      <th>None</th>\n",
       "      <td>0.0</td>\n",
       "      <td>0.0</td>\n",
       "      <td>0.0</td>\n",
       "      <td>0.0</td>\n",
       "      <td>0.0</td>\n",
       "      <td>0.000000</td>\n",
       "    </tr>\n",
       "  </tbody>\n",
       "</table>\n",
       "</div>"
      ],
      "text/plain": [
       "                 peak_discount  off_peak_discount  weekend_discount  \\\n",
       "discount_name                                                         \n",
       "Altijd Voordeel            0.2                0.4               0.4   \n",
       "Altijd Vrij                1.0                1.0               1.0   \n",
       "Dal Voordeel               0.0                0.4               0.4   \n",
       "Weekend Vrij               0.0                0.4               1.0   \n",
       "Dal Vrij                   0.0                1.0               1.0   \n",
       "None                       0.0                0.0               0.0   \n",
       "\n",
       "                 holiday_discount  monthly_price_per_month  \\\n",
       "discount_name                                                \n",
       "Altijd Voordeel               0.4                     28.0   \n",
       "Altijd Vrij                   1.0                    424.0   \n",
       "Dal Voordeel                  0.4                      NaN   \n",
       "Weekend Vrij                  1.0                      NaN   \n",
       "Dal Vrij                      1.0                      NaN   \n",
       "None                          0.0                      0.0   \n",
       "\n",
       "                 yearly_price_per_month  \n",
       "discount_name                            \n",
       "Altijd Voordeel               23.000000  \n",
       "Altijd Vrij                  346.000000  \n",
       "Dal Voordeel                   4.333333  \n",
       "Weekend Vrij                  34.000000  \n",
       "Dal Vrij                     105.000000  \n",
       "None                           0.000000  "
      ]
     },
     "execution_count": 110,
     "metadata": {},
     "output_type": "execute_result"
    }
   ],
   "source": [
    "discounts2"
   ]
  },
  {
   "cell_type": "code",
   "execution_count": 144,
   "metadata": {},
   "outputs": [],
   "source": [
    "def get_discount_info(df, discount_name):\n",
    "    '''Given: \n",
    "            * a dataframe of discount details with the\n",
    "              discount names as the index\n",
    "            * name of season ticket\n",
    "            \n",
    "    returns details of the discount in a dictionary'''\n",
    "    \n",
    "    details = df.loc[discount_name].copy()\n",
    "    \n",
    "    return({'peak_discount':details.loc['peak_discount'], \n",
    "            'off_peak_discount':details.loc['off_peak_discount'], \n",
    "            'weekend_discount':details.loc['weekend_discount'], \n",
    "            'holiday_discount':details.loc['holiday_discount']})"
   ]
  },
  {
   "cell_type": "code",
   "execution_count": 127,
   "metadata": {},
   "outputs": [],
   "source": [
    "def get_discount_fraction(discount_dict, peak, weekend, holiday):\n",
    "    '''Given a dictionary with discount info, and boolean\n",
    "    values indicating if check-in was at peak, on a weekend, or\n",
    "    on a holiday, returns a number between 0 and 1 indicating\n",
    "    what fraction of the true fare should be discounted.'''\n",
    "    \n",
    "    if holiday:\n",
    "        return discount_dict['holiday_discount']\n",
    "    elif weekend:\n",
    "        return discount_dict['weekend_discount']\n",
    "    elif peak:\n",
    "        return discount_dict['peak_discount']\n",
    "    else:\n",
    "        return discount_dict['off_peak_discount']"
   ]
  },
  {
   "cell_type": "code",
   "execution_count": 128,
   "metadata": {},
   "outputs": [],
   "source": [
    "def apply_discount(fare, discount_fraction):\n",
    "    return fare - fare * discount_fraction"
   ]
  },
  {
   "cell_type": "code",
   "execution_count": 148,
   "metadata": {},
   "outputs": [],
   "source": [
    "def get_discounted_fare(df, discount_name, peak, weekend, holiday, true_fare):\n",
    "    '''Given discount info dataframe, discount name, \n",
    "    booleans indicating if trip is at peak/weekend/holiday, and the\n",
    "    full priced fare value, returns the discounted fare value for the \n",
    "    specified options'''\n",
    "    \n",
    "    disc_dict = get_discount_info(df, discount_name)\n",
    "    discount_fraction = get_discount_fraction(disc_dict, peak, weekend, holiday)\n",
    "    return(apply_discount(true_fare, discount_fraction))"
   ]
  },
  {
   "cell_type": "code",
   "execution_count": 141,
   "metadata": {},
   "outputs": [
    {
     "data": {
      "text/html": [
       "<div>\n",
       "<style scoped>\n",
       "    .dataframe tbody tr th:only-of-type {\n",
       "        vertical-align: middle;\n",
       "    }\n",
       "\n",
       "    .dataframe tbody tr th {\n",
       "        vertical-align: top;\n",
       "    }\n",
       "\n",
       "    .dataframe thead th {\n",
       "        text-align: right;\n",
       "    }\n",
       "</style>\n",
       "<table border=\"1\" class=\"dataframe\">\n",
       "  <thead>\n",
       "    <tr style=\"text-align: right;\">\n",
       "      <th></th>\n",
       "      <th>weekend</th>\n",
       "      <th>peak</th>\n",
       "      <th>holiday</th>\n",
       "      <th>true_fare</th>\n",
       "    </tr>\n",
       "    <tr>\n",
       "      <th>Check_in_time</th>\n",
       "      <th></th>\n",
       "      <th></th>\n",
       "      <th></th>\n",
       "      <th></th>\n",
       "    </tr>\n",
       "  </thead>\n",
       "  <tbody>\n",
       "    <tr>\n",
       "      <th>2018-06-04 09:17:00</th>\n",
       "      <td>False</td>\n",
       "      <td>False</td>\n",
       "      <td>False</td>\n",
       "      <td>9.17</td>\n",
       "    </tr>\n",
       "    <tr>\n",
       "      <th>2018-06-04 11:57:00</th>\n",
       "      <td>False</td>\n",
       "      <td>False</td>\n",
       "      <td>False</td>\n",
       "      <td>9.17</td>\n",
       "    </tr>\n",
       "    <tr>\n",
       "      <th>2018-08-04 07:34:00</th>\n",
       "      <td>True</td>\n",
       "      <td>True</td>\n",
       "      <td>False</td>\n",
       "      <td>7.33</td>\n",
       "    </tr>\n",
       "    <tr>\n",
       "      <th>2018-08-04 14:25:00</th>\n",
       "      <td>True</td>\n",
       "      <td>False</td>\n",
       "      <td>False</td>\n",
       "      <td>7.33</td>\n",
       "    </tr>\n",
       "    <tr>\n",
       "      <th>2018-04-19 11:55:00</th>\n",
       "      <td>False</td>\n",
       "      <td>False</td>\n",
       "      <td>False</td>\n",
       "      <td>9.17</td>\n",
       "    </tr>\n",
       "  </tbody>\n",
       "</table>\n",
       "</div>"
      ],
      "text/plain": [
       "                     weekend   peak  holiday  true_fare\n",
       "Check_in_time                                          \n",
       "2018-06-04 09:17:00    False  False    False       9.17\n",
       "2018-06-04 11:57:00    False  False    False       9.17\n",
       "2018-08-04 07:34:00     True   True    False       7.33\n",
       "2018-08-04 14:25:00     True  False    False       7.33\n",
       "2018-04-19 11:55:00    False  False    False       9.17"
      ]
     },
     "execution_count": 141,
     "metadata": {},
     "output_type": "execute_result"
    }
   ],
   "source": [
    "t = travel[['weekend', 'peak', 'holiday', 'true_fare']]\n",
    "t.head()"
   ]
  },
  {
   "cell_type": "code",
   "execution_count": 142,
   "metadata": {},
   "outputs": [],
   "source": [
    "disc_names = list(discounts2.index)"
   ]
  },
  {
   "cell_type": "code",
   "execution_count": 149,
   "metadata": {},
   "outputs": [],
   "source": [
    "for n in disc_names:\n",
    "    t[n] = t.apply(lambda x: get_discounted_fare(df = discounts2,\n",
    "                                                 discount_name = n,\n",
    "                                                 peak = x['peak'],\n",
    "                                                 weekend = x['weekend'],\n",
    "                                                 holiday = x['holiday'],\n",
    "                                                 true_fare = x['true_fare']), \n",
    "                                                 axis=1)"
   ]
  },
  {
   "cell_type": "code",
   "execution_count": 150,
   "metadata": {},
   "outputs": [
    {
     "data": {
      "text/html": [
       "<div>\n",
       "<style scoped>\n",
       "    .dataframe tbody tr th:only-of-type {\n",
       "        vertical-align: middle;\n",
       "    }\n",
       "\n",
       "    .dataframe tbody tr th {\n",
       "        vertical-align: top;\n",
       "    }\n",
       "\n",
       "    .dataframe thead th {\n",
       "        text-align: right;\n",
       "    }\n",
       "</style>\n",
       "<table border=\"1\" class=\"dataframe\">\n",
       "  <thead>\n",
       "    <tr style=\"text-align: right;\">\n",
       "      <th></th>\n",
       "      <th>weekend</th>\n",
       "      <th>peak</th>\n",
       "      <th>holiday</th>\n",
       "      <th>true_fare</th>\n",
       "      <th>Altijd Voordeel</th>\n",
       "      <th>Altijd Vrij</th>\n",
       "      <th>Dal Voordeel</th>\n",
       "      <th>Weekend Vrij</th>\n",
       "      <th>Dal Vrij</th>\n",
       "      <th>None</th>\n",
       "    </tr>\n",
       "    <tr>\n",
       "      <th>Check_in_time</th>\n",
       "      <th></th>\n",
       "      <th></th>\n",
       "      <th></th>\n",
       "      <th></th>\n",
       "      <th></th>\n",
       "      <th></th>\n",
       "      <th></th>\n",
       "      <th></th>\n",
       "      <th></th>\n",
       "      <th></th>\n",
       "    </tr>\n",
       "  </thead>\n",
       "  <tbody>\n",
       "    <tr>\n",
       "      <th>2018-06-04 09:17:00</th>\n",
       "      <td>False</td>\n",
       "      <td>False</td>\n",
       "      <td>False</td>\n",
       "      <td>9.17</td>\n",
       "      <td>5.502</td>\n",
       "      <td>0.0</td>\n",
       "      <td>5.502</td>\n",
       "      <td>5.502</td>\n",
       "      <td>0.0</td>\n",
       "      <td>9.17</td>\n",
       "    </tr>\n",
       "    <tr>\n",
       "      <th>2018-06-04 11:57:00</th>\n",
       "      <td>False</td>\n",
       "      <td>False</td>\n",
       "      <td>False</td>\n",
       "      <td>9.17</td>\n",
       "      <td>5.502</td>\n",
       "      <td>0.0</td>\n",
       "      <td>5.502</td>\n",
       "      <td>5.502</td>\n",
       "      <td>0.0</td>\n",
       "      <td>9.17</td>\n",
       "    </tr>\n",
       "    <tr>\n",
       "      <th>2018-08-04 07:34:00</th>\n",
       "      <td>True</td>\n",
       "      <td>True</td>\n",
       "      <td>False</td>\n",
       "      <td>7.33</td>\n",
       "      <td>4.398</td>\n",
       "      <td>0.0</td>\n",
       "      <td>4.398</td>\n",
       "      <td>0.000</td>\n",
       "      <td>0.0</td>\n",
       "      <td>7.33</td>\n",
       "    </tr>\n",
       "    <tr>\n",
       "      <th>2018-08-04 14:25:00</th>\n",
       "      <td>True</td>\n",
       "      <td>False</td>\n",
       "      <td>False</td>\n",
       "      <td>7.33</td>\n",
       "      <td>4.398</td>\n",
       "      <td>0.0</td>\n",
       "      <td>4.398</td>\n",
       "      <td>0.000</td>\n",
       "      <td>0.0</td>\n",
       "      <td>7.33</td>\n",
       "    </tr>\n",
       "    <tr>\n",
       "      <th>2018-04-19 11:55:00</th>\n",
       "      <td>False</td>\n",
       "      <td>False</td>\n",
       "      <td>False</td>\n",
       "      <td>9.17</td>\n",
       "      <td>5.502</td>\n",
       "      <td>0.0</td>\n",
       "      <td>5.502</td>\n",
       "      <td>5.502</td>\n",
       "      <td>0.0</td>\n",
       "      <td>9.17</td>\n",
       "    </tr>\n",
       "  </tbody>\n",
       "</table>\n",
       "</div>"
      ],
      "text/plain": [
       "                     weekend   peak  holiday  true_fare  Altijd Voordeel  \\\n",
       "Check_in_time                                                              \n",
       "2018-06-04 09:17:00    False  False    False       9.17            5.502   \n",
       "2018-06-04 11:57:00    False  False    False       9.17            5.502   \n",
       "2018-08-04 07:34:00     True   True    False       7.33            4.398   \n",
       "2018-08-04 14:25:00     True  False    False       7.33            4.398   \n",
       "2018-04-19 11:55:00    False  False    False       9.17            5.502   \n",
       "\n",
       "                     Altijd Vrij  Dal Voordeel  Weekend Vrij  Dal Vrij  None  \n",
       "Check_in_time                                                                 \n",
       "2018-06-04 09:17:00          0.0         5.502         5.502       0.0  9.17  \n",
       "2018-06-04 11:57:00          0.0         5.502         5.502       0.0  9.17  \n",
       "2018-08-04 07:34:00          0.0         4.398         0.000       0.0  7.33  \n",
       "2018-08-04 14:25:00          0.0         4.398         0.000       0.0  7.33  \n",
       "2018-04-19 11:55:00          0.0         5.502         5.502       0.0  9.17  "
      ]
     },
     "execution_count": 150,
     "metadata": {},
     "output_type": "execute_result"
    }
   ],
   "source": [
    "t.head()"
   ]
  },
  {
   "cell_type": "code",
   "execution_count": 151,
   "metadata": {},
   "outputs": [
    {
     "data": {
      "text/html": [
       "<div>\n",
       "<style scoped>\n",
       "    .dataframe tbody tr th:only-of-type {\n",
       "        vertical-align: middle;\n",
       "    }\n",
       "\n",
       "    .dataframe tbody tr th {\n",
       "        vertical-align: top;\n",
       "    }\n",
       "\n",
       "    .dataframe thead th {\n",
       "        text-align: right;\n",
       "    }\n",
       "</style>\n",
       "<table border=\"1\" class=\"dataframe\">\n",
       "  <thead>\n",
       "    <tr style=\"text-align: right;\">\n",
       "      <th></th>\n",
       "      <th>Altijd Voordeel</th>\n",
       "      <th>Altijd Vrij</th>\n",
       "      <th>Dal Voordeel</th>\n",
       "      <th>Weekend Vrij</th>\n",
       "      <th>Dal Vrij</th>\n",
       "      <th>None</th>\n",
       "    </tr>\n",
       "    <tr>\n",
       "      <th>Check_in_time</th>\n",
       "      <th></th>\n",
       "      <th></th>\n",
       "      <th></th>\n",
       "      <th></th>\n",
       "      <th></th>\n",
       "      <th></th>\n",
       "    </tr>\n",
       "  </thead>\n",
       "  <tbody>\n",
       "    <tr>\n",
       "      <th>2018-06-04 09:17:00</th>\n",
       "      <td>5.502</td>\n",
       "      <td>0.0</td>\n",
       "      <td>5.502</td>\n",
       "      <td>5.502</td>\n",
       "      <td>0.0</td>\n",
       "      <td>9.17</td>\n",
       "    </tr>\n",
       "    <tr>\n",
       "      <th>2018-06-04 11:57:00</th>\n",
       "      <td>5.502</td>\n",
       "      <td>0.0</td>\n",
       "      <td>5.502</td>\n",
       "      <td>5.502</td>\n",
       "      <td>0.0</td>\n",
       "      <td>9.17</td>\n",
       "    </tr>\n",
       "    <tr>\n",
       "      <th>2018-08-04 07:34:00</th>\n",
       "      <td>4.398</td>\n",
       "      <td>0.0</td>\n",
       "      <td>4.398</td>\n",
       "      <td>0.000</td>\n",
       "      <td>0.0</td>\n",
       "      <td>7.33</td>\n",
       "    </tr>\n",
       "    <tr>\n",
       "      <th>2018-08-04 14:25:00</th>\n",
       "      <td>4.398</td>\n",
       "      <td>0.0</td>\n",
       "      <td>4.398</td>\n",
       "      <td>0.000</td>\n",
       "      <td>0.0</td>\n",
       "      <td>7.33</td>\n",
       "    </tr>\n",
       "    <tr>\n",
       "      <th>2018-04-19 11:55:00</th>\n",
       "      <td>5.502</td>\n",
       "      <td>0.0</td>\n",
       "      <td>5.502</td>\n",
       "      <td>5.502</td>\n",
       "      <td>0.0</td>\n",
       "      <td>9.17</td>\n",
       "    </tr>\n",
       "  </tbody>\n",
       "</table>\n",
       "</div>"
      ],
      "text/plain": [
       "                     Altijd Voordeel  Altijd Vrij  Dal Voordeel  Weekend Vrij  \\\n",
       "Check_in_time                                                                   \n",
       "2018-06-04 09:17:00            5.502          0.0         5.502         5.502   \n",
       "2018-06-04 11:57:00            5.502          0.0         5.502         5.502   \n",
       "2018-08-04 07:34:00            4.398          0.0         4.398         0.000   \n",
       "2018-08-04 14:25:00            4.398          0.0         4.398         0.000   \n",
       "2018-04-19 11:55:00            5.502          0.0         5.502         5.502   \n",
       "\n",
       "                     Dal Vrij  None  \n",
       "Check_in_time                        \n",
       "2018-06-04 09:17:00       0.0  9.17  \n",
       "2018-06-04 11:57:00       0.0  9.17  \n",
       "2018-08-04 07:34:00       0.0  7.33  \n",
       "2018-08-04 14:25:00       0.0  7.33  \n",
       "2018-04-19 11:55:00       0.0  9.17  "
      ]
     },
     "execution_count": 151,
     "metadata": {},
     "output_type": "execute_result"
    }
   ],
   "source": [
    "totals = t[disc_names]\n",
    "totals.head()"
   ]
  },
  {
   "cell_type": "code",
   "execution_count": 157,
   "metadata": {},
   "outputs": [
    {
     "data": {
      "text/html": [
       "<div>\n",
       "<style scoped>\n",
       "    .dataframe tbody tr th:only-of-type {\n",
       "        vertical-align: middle;\n",
       "    }\n",
       "\n",
       "    .dataframe tbody tr th {\n",
       "        vertical-align: top;\n",
       "    }\n",
       "\n",
       "    .dataframe thead th {\n",
       "        text-align: right;\n",
       "    }\n",
       "</style>\n",
       "<table border=\"1\" class=\"dataframe\">\n",
       "  <thead>\n",
       "    <tr style=\"text-align: right;\">\n",
       "      <th></th>\n",
       "      <th>yearly_fares</th>\n",
       "    </tr>\n",
       "  </thead>\n",
       "  <tbody>\n",
       "    <tr>\n",
       "      <th>Altijd Voordeel</th>\n",
       "      <td>410.62</td>\n",
       "    </tr>\n",
       "    <tr>\n",
       "      <th>Altijd Vrij</th>\n",
       "      <td>0.00</td>\n",
       "    </tr>\n",
       "    <tr>\n",
       "      <th>Dal Voordeel</th>\n",
       "      <td>433.18</td>\n",
       "    </tr>\n",
       "    <tr>\n",
       "      <th>Weekend Vrij</th>\n",
       "      <td>317.42</td>\n",
       "    </tr>\n",
       "    <tr>\n",
       "      <th>Dal Vrij</th>\n",
       "      <td>112.80</td>\n",
       "    </tr>\n",
       "    <tr>\n",
       "      <th>None</th>\n",
       "      <td>646.76</td>\n",
       "    </tr>\n",
       "  </tbody>\n",
       "</table>\n",
       "</div>"
      ],
      "text/plain": [
       "                 yearly_fares\n",
       "Altijd Voordeel        410.62\n",
       "Altijd Vrij              0.00\n",
       "Dal Voordeel           433.18\n",
       "Weekend Vrij           317.42\n",
       "Dal Vrij               112.80\n",
       "None                   646.76"
      ]
     },
     "execution_count": 157,
     "metadata": {},
     "output_type": "execute_result"
    }
   ],
   "source": [
    "yearly_fares = pd.DataFrame({'yearly_fares': round(totals.apply(sum), 2)})\n",
    "yearly_fares"
   ]
  },
  {
   "cell_type": "code",
   "execution_count": 158,
   "metadata": {},
   "outputs": [
    {
     "data": {
      "text/html": [
       "<div>\n",
       "<style scoped>\n",
       "    .dataframe tbody tr th:only-of-type {\n",
       "        vertical-align: middle;\n",
       "    }\n",
       "\n",
       "    .dataframe tbody tr th {\n",
       "        vertical-align: top;\n",
       "    }\n",
       "\n",
       "    .dataframe thead th {\n",
       "        text-align: right;\n",
       "    }\n",
       "</style>\n",
       "<table border=\"1\" class=\"dataframe\">\n",
       "  <thead>\n",
       "    <tr style=\"text-align: right;\">\n",
       "      <th></th>\n",
       "      <th>yearly_price_per_month</th>\n",
       "      <th>yearly_cost</th>\n",
       "    </tr>\n",
       "    <tr>\n",
       "      <th>discount_name</th>\n",
       "      <th></th>\n",
       "      <th></th>\n",
       "    </tr>\n",
       "  </thead>\n",
       "  <tbody>\n",
       "    <tr>\n",
       "      <th>Altijd Voordeel</th>\n",
       "      <td>23.000000</td>\n",
       "      <td>276.0</td>\n",
       "    </tr>\n",
       "    <tr>\n",
       "      <th>Altijd Vrij</th>\n",
       "      <td>346.000000</td>\n",
       "      <td>4152.0</td>\n",
       "    </tr>\n",
       "    <tr>\n",
       "      <th>Dal Voordeel</th>\n",
       "      <td>4.333333</td>\n",
       "      <td>52.0</td>\n",
       "    </tr>\n",
       "    <tr>\n",
       "      <th>Weekend Vrij</th>\n",
       "      <td>34.000000</td>\n",
       "      <td>408.0</td>\n",
       "    </tr>\n",
       "    <tr>\n",
       "      <th>Dal Vrij</th>\n",
       "      <td>105.000000</td>\n",
       "      <td>1260.0</td>\n",
       "    </tr>\n",
       "  </tbody>\n",
       "</table>\n",
       "</div>"
      ],
      "text/plain": [
       "                 yearly_price_per_month  yearly_cost\n",
       "discount_name                                       \n",
       "Altijd Voordeel               23.000000        276.0\n",
       "Altijd Vrij                  346.000000       4152.0\n",
       "Dal Voordeel                   4.333333         52.0\n",
       "Weekend Vrij                  34.000000        408.0\n",
       "Dal Vrij                     105.000000       1260.0"
      ]
     },
     "execution_count": 158,
     "metadata": {},
     "output_type": "execute_result"
    }
   ],
   "source": [
    "subscription_costs = discounts2[['yearly_price_per_month']].copy()\n",
    "subscription_costs['yearly_cost'] = round(subscription_costs['yearly_price_per_month'] * 12,2)\n",
    "subscription_costs.head()"
   ]
  },
  {
   "cell_type": "code",
   "execution_count": 166,
   "metadata": {},
   "outputs": [
    {
     "data": {
      "text/html": [
       "<div>\n",
       "<style scoped>\n",
       "    .dataframe tbody tr th:only-of-type {\n",
       "        vertical-align: middle;\n",
       "    }\n",
       "\n",
       "    .dataframe tbody tr th {\n",
       "        vertical-align: top;\n",
       "    }\n",
       "\n",
       "    .dataframe thead th {\n",
       "        text-align: right;\n",
       "    }\n",
       "</style>\n",
       "<table border=\"1\" class=\"dataframe\">\n",
       "  <thead>\n",
       "    <tr style=\"text-align: right;\">\n",
       "      <th></th>\n",
       "      <th>yearly_cost</th>\n",
       "      <th>yearly_fares</th>\n",
       "      <th>yearly_total</th>\n",
       "    </tr>\n",
       "    <tr>\n",
       "      <th>discount_name</th>\n",
       "      <th></th>\n",
       "      <th></th>\n",
       "      <th></th>\n",
       "    </tr>\n",
       "  </thead>\n",
       "  <tbody>\n",
       "    <tr>\n",
       "      <th>Dal Voordeel</th>\n",
       "      <td>52.0</td>\n",
       "      <td>433.18</td>\n",
       "      <td>485.18</td>\n",
       "    </tr>\n",
       "    <tr>\n",
       "      <th>None</th>\n",
       "      <td>0.0</td>\n",
       "      <td>646.76</td>\n",
       "      <td>646.76</td>\n",
       "    </tr>\n",
       "    <tr>\n",
       "      <th>Altijd Voordeel</th>\n",
       "      <td>276.0</td>\n",
       "      <td>410.62</td>\n",
       "      <td>686.62</td>\n",
       "    </tr>\n",
       "    <tr>\n",
       "      <th>Weekend Vrij</th>\n",
       "      <td>408.0</td>\n",
       "      <td>317.42</td>\n",
       "      <td>725.42</td>\n",
       "    </tr>\n",
       "    <tr>\n",
       "      <th>Dal Vrij</th>\n",
       "      <td>1260.0</td>\n",
       "      <td>112.80</td>\n",
       "      <td>1372.80</td>\n",
       "    </tr>\n",
       "    <tr>\n",
       "      <th>Altijd Vrij</th>\n",
       "      <td>4152.0</td>\n",
       "      <td>0.00</td>\n",
       "      <td>4152.00</td>\n",
       "    </tr>\n",
       "  </tbody>\n",
       "</table>\n",
       "</div>"
      ],
      "text/plain": [
       "                 yearly_cost  yearly_fares  yearly_total\n",
       "discount_name                                           \n",
       "Dal Voordeel            52.0        433.18        485.18\n",
       "None                     0.0        646.76        646.76\n",
       "Altijd Voordeel        276.0        410.62        686.62\n",
       "Weekend Vrij           408.0        317.42        725.42\n",
       "Dal Vrij              1260.0        112.80       1372.80\n",
       "Altijd Vrij           4152.0          0.00       4152.00"
      ]
     },
     "execution_count": 166,
     "metadata": {},
     "output_type": "execute_result"
    }
   ],
   "source": [
    "total_costs = subscription_costs.join(yearly_fares, how = 'outer')\n",
    "total_costs['yearly_total'] = total_costs['yearly_cost'] + total_costs['yearly_fares']\n",
    "total_costs = total_costs.drop(columns = ['yearly_price_per_month'])\n",
    "total_costs = total_costs.sort_values(by=['yearly_total'])\n",
    "total_costs.head(6)"
   ]
  },
  {
   "cell_type": "code",
   "execution_count": 216,
   "metadata": {},
   "outputs": [
    {
     "data": {
      "text/html": [
       "<div>\n",
       "<style scoped>\n",
       "    .dataframe tbody tr th:only-of-type {\n",
       "        vertical-align: middle;\n",
       "    }\n",
       "\n",
       "    .dataframe tbody tr th {\n",
       "        vertical-align: top;\n",
       "    }\n",
       "\n",
       "    .dataframe thead th {\n",
       "        text-align: right;\n",
       "    }\n",
       "</style>\n",
       "<table border=\"1\" class=\"dataframe\">\n",
       "  <thead>\n",
       "    <tr style=\"text-align: right;\">\n",
       "      <th></th>\n",
       "      <th>yearly_cost</th>\n",
       "      <th>yearly_fares</th>\n",
       "      <th>yearly_total</th>\n",
       "      <th>diff</th>\n",
       "    </tr>\n",
       "    <tr>\n",
       "      <th>discount_name</th>\n",
       "      <th></th>\n",
       "      <th></th>\n",
       "      <th></th>\n",
       "      <th></th>\n",
       "    </tr>\n",
       "  </thead>\n",
       "  <tbody>\n",
       "    <tr>\n",
       "      <th>Dal Voordeel</th>\n",
       "      <td>52.0</td>\n",
       "      <td>433.18</td>\n",
       "      <td>485.18</td>\n",
       "      <td>0.00</td>\n",
       "    </tr>\n",
       "    <tr>\n",
       "      <th>None</th>\n",
       "      <td>0.0</td>\n",
       "      <td>646.76</td>\n",
       "      <td>646.76</td>\n",
       "      <td>161.58</td>\n",
       "    </tr>\n",
       "    <tr>\n",
       "      <th>Altijd Voordeel</th>\n",
       "      <td>276.0</td>\n",
       "      <td>410.62</td>\n",
       "      <td>686.62</td>\n",
       "      <td>201.44</td>\n",
       "    </tr>\n",
       "    <tr>\n",
       "      <th>Weekend Vrij</th>\n",
       "      <td>408.0</td>\n",
       "      <td>317.42</td>\n",
       "      <td>725.42</td>\n",
       "      <td>240.24</td>\n",
       "    </tr>\n",
       "    <tr>\n",
       "      <th>Dal Vrij</th>\n",
       "      <td>1260.0</td>\n",
       "      <td>112.80</td>\n",
       "      <td>1372.80</td>\n",
       "      <td>887.62</td>\n",
       "    </tr>\n",
       "  </tbody>\n",
       "</table>\n",
       "</div>"
      ],
      "text/plain": [
       "                 yearly_cost  yearly_fares  yearly_total    diff\n",
       "discount_name                                                   \n",
       "Dal Voordeel            52.0        433.18        485.18    0.00\n",
       "None                     0.0        646.76        646.76  161.58\n",
       "Altijd Voordeel        276.0        410.62        686.62  201.44\n",
       "Weekend Vrij           408.0        317.42        725.42  240.24\n",
       "Dal Vrij              1260.0        112.80       1372.80  887.62"
      ]
     },
     "execution_count": 216,
     "metadata": {},
     "output_type": "execute_result"
    }
   ],
   "source": [
    "lowest_cost = total_costs['yearly_total'].min()\n",
    "best_season_ticket = total_costs['yearly_total'].idxmin()\n",
    "total_costs['diff'] = total_costs['yearly_total'] - lowest_cost\n",
    "diff_low = round(total_costs['yearly_total'][1] - total_costs['yearly_total'][0], 2)\n",
    "total_costs.head()"
   ]
  },
  {
   "cell_type": "code",
   "execution_count": 222,
   "metadata": {
    "scrolled": true
   },
   "outputs": [
    {
     "name": "stdout",
     "output_type": "stream",
     "text": [
      "The best season ticket based on the past year of travel history is the Dal Voordeel. And that is what I had!\n",
      "With this season ticket, the total cost is €485.18.\n",
      "The Dal Voordeel ticket saved €161.58 from the next cheapest ticket.\n"
     ]
    }
   ],
   "source": [
    "print('The best season ticket based on the past year of travel history is the ' + best_season_ticket + '. And that is what I had!')\n",
    "print('With this season ticket, the total cost is €' + str(lowest_cost) + '.' )\n",
    "print('The ' + best_season_ticket + ' ticket saved €' + str(diff_low) + ' from the next cheapest ticket.')"
   ]
  },
  {
   "cell_type": "markdown",
   "metadata": {},
   "source": [
    "### Good news for me- I definitely had the best season ticket out of all the options! ###\n",
    "Of course, it is quite likely that I modified my behavior to take advantage of the ticket that I had. But it's still nice to know that I did well."
   ]
  },
  {
   "cell_type": "code",
   "execution_count": 224,
   "metadata": {},
   "outputs": [
    {
     "data": {
      "image/png": "[encoded data removed]",
      "text/plain": [
       "<Figure size 432x288 with 1 Axes>"
      ]
     },
     "metadata": {
      "needs_background": "light"
     },
     "output_type": "display_data"
    }
   ],
   "source": [
    "total_costs.iloc[:,0:3].plot(marker='o')\n",
    "plt.xlabel('')\n",
    "plt.ylabel('Total yearly cost based on travel history (€)')\n",
    "plt.title('Which NS season ticket saves me the most money?')\n",
    "plt.xticks([0, 1, 2, 3, 4, 5], list(total_costs.index), rotation = 'vertical')\n",
    "plt.legend(labels=['Season ticket cost', 'Fare cost', 'Total cost'])\n",
    "plt.show()"
   ]
  },
  {
   "cell_type": "code",
   "execution_count": 225,
   "metadata": {},
   "outputs": [
    {
     "data": {
      "image/png": "[encoded data removed]",
      "text/plain": [
       "<Figure size 432x288 with 1 Axes>"
      ]
     },
     "metadata": {
      "needs_background": "light"
     },
     "output_type": "display_data"
    }
   ],
   "source": [
    "total_costs.iloc[:,0:3][total_costs['yearly_total'] < 2000].plot(marker='o')\n",
    "plt.xlabel('')\n",
    "plt.ylabel('Total yearly cost based on travel history (€)')\n",
    "plt.title('Which NS season ticket saves me the most money?')\n",
    "plt.xticks([0, 1, 2, 3, 4], list(total_costs.index[:-1]), rotation = 'vertical')\n",
    "plt.legend(labels=['Season ticket cost', 'Fare cost', 'Total cost'])\n",
    "plt.show()"
   ]
  },
  {
   "cell_type": "code",
   "execution_count": 227,
   "metadata": {},
   "outputs": [
    {
     "data": {
      "image/png": "[encoded data removed]",
      "text/plain": [
       "<Figure size 432x288 with 1 Axes>"
      ]
     },
     "metadata": {
      "needs_background": "light"
     },
     "output_type": "display_data"
    }
   ],
   "source": [
    "total_costs.iloc[:,3].plot(marker='o')\n",
    "plt.xlabel('')\n",
    "plt.ylabel('Price difference with the best season ticket (€)')\n",
    "plt.title('Price difference between season tickets')\n",
    "plt.xticks([0, 1, 2, 3, 4, 5], list(total_costs.index), rotation = 'vertical')\n",
    "plt.legend(labels=[])\n",
    "plt.show()"
   ]
  }
 ],
 "metadata": {
  "kernelspec": {
   "display_name": "Python 3",
   "language": "python",
   "name": "python3"
  },
  "language_info": {
   "codemirror_mode": {
    "name": "ipython",
    "version": 3
   },
   "file_extension": ".py",
   "mimetype": "text/x-python",
   "name": "python",
   "nbconvert_exporter": "python",
   "pygments_lexer": "ipython3",
   "version": "3.7.0"
  }
 },
 "nbformat": 4,
 "nbformat_minor": 2
}
